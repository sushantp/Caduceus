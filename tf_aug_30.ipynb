{
  "nbformat": 4,
  "nbformat_minor": 0,
  "metadata": {
    "colab": {
      "name": "tf_aug_30.ipynb",
      "version": "0.3.2",
      "provenance": [],
      "include_colab_link": true
    },
    "kernelspec": {
      "name": "python3",
      "display_name": "Python 3"
    }
  },
  "cells": [
    {
      "cell_type": "markdown",
      "metadata": {
        "id": "view-in-github",
        "colab_type": "text"
      },
      "source": [
        "[View in Colaboratory](https://colab.research.google.com/github/sushantp/Caduceus/blob/master/tf_aug_30.ipynb)"
      ]
    },
    {
      "metadata": {
        "id": "50qN9FeDFUL-",
        "colab_type": "code",
        "colab": {}
      },
      "cell_type": "code",
      "source": [
        "import tensorflow as tf"
      ],
      "execution_count": 0,
      "outputs": []
    },
    {
      "metadata": {
        "id": "VfXzG2VjFYHj",
        "colab_type": "code",
        "colab": {
          "base_uri": "https://localhost:8080/",
          "height": 34
        },
        "outputId": "25e15e47-a505-4bc3-fc44-fb0b66252ec8"
      },
      "cell_type": "code",
      "source": [
        "with tf.Session() as sess:\n",
        "  x = tf.placeholder(tf.float32, [1], name = \"x\")\n",
        "  y = tf.placeholder(tf.float32, [1], name = \"y\")\n",
        "  z = tf.constant(2.0)\n",
        "  y=x*z\n",
        "  x_in = [100]\n",
        "  y_out = sess.run(y, {x:x_in})\n",
        "  print(y_out)"
      ],
      "execution_count": 3,
      "outputs": [
        {
          "output_type": "stream",
          "text": [
            "[200.]\n"
          ],
          "name": "stdout"
        }
      ]
    },
    {
      "metadata": {
        "id": "20rVhKAsGaCI",
        "colab_type": "code",
        "colab": {}
      },
      "cell_type": "code",
      "source": [
        "scalar = tf.constant(100)\n",
        "vector = tf.constant([1, 2, 3, 4, 5])\n",
        "matrix = tf.constant([[1, 2, 3], [4, 5, 6]])\n",
        "cube_matrix = tf.constant([[[1], [2], [3], [4]]])"
      ],
      "execution_count": 0,
      "outputs": []
    },
    {
      "metadata": {
        "id": "JKZiQQq-K1-f",
        "colab_type": "code",
        "colab": {
          "base_uri": "https://localhost:8080/",
          "height": 84
        },
        "outputId": "e94b8f42-7ff6-47e5-eeda-2dd94634c757"
      },
      "cell_type": "code",
      "source": [
        "print(scalar.get_shape())\n",
        "print(vector.get_shape())\n",
        "print(matrix.get_shape())\n",
        "print(cube_matrix.get_shape())"
      ],
      "execution_count": 5,
      "outputs": [
        {
          "output_type": "stream",
          "text": [
            "()\n",
            "(5,)\n",
            "(2, 3)\n",
            "(1, 4, 1)\n"
          ],
          "name": "stdout"
        }
      ]
    },
    {
      "metadata": {
        "id": "nSRbGFN9LPVk",
        "colab_type": "code",
        "colab": {}
      },
      "cell_type": "code",
      "source": [
        ""
      ],
      "execution_count": 0,
      "outputs": []
    }
  ]
}